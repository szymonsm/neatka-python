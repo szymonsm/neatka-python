{
 "cells": [
  {
   "cell_type": "code",
   "execution_count": 19,
   "id": "b054a3e8",
   "metadata": {},
   "outputs": [
    {
     "name": "stdout",
     "output_type": "stream",
     "text": [
      "Generating consolidated results...\n",
      "Loaded results from examples/lunar-lander/parameter_sweep_results\\20250520_081847\\kan_9ac93613a4\\results_10.csv\n",
      "Loaded results from examples/lunar-lander/parameter_sweep_results\\20250520_081847\\kan_9ac93613a4\\results_42.csv\n",
      "Loaded results from examples/lunar-lander/parameter_sweep_results\\20250520_081847\\kan_9ac93613a4\\results_123.csv\n",
      "Loaded results from examples/lunar-lander/parameter_sweep_results\\20250520_081847\\kan_9ac93613a4\\results_456.csv\n",
      "Loaded results from examples/lunar-lander/parameter_sweep_results\\20250520_081847\\kan_9ac93613a4\\results_789.csv\n",
      "Consolidated results saved to examples\\lunar-lander\\parameter_sweep_results\\20250520_081847\\consolidated_results.csv\n"
     ]
    }
   ],
   "source": [
    "import os\n",
    "from parameters_sweep import consolidate_results\n",
    "# Set current working directory to C:\\Users\\szymo\\WUT\\Masters\\Thesis\\neatka-python\n",
    "# to ensure relative paths are correct\n",
    "os.chdir(r\"C:\\Users\\szymo\\WUT\\Masters\\Thesis\\neatka-python\")\n",
    "\n",
    "results_dir = \"examples\\\\lunar-lander\\\\parameter_sweep_results\\\\20250520_081847\"\n",
    "summary_path = os.path.join(results_dir, 'experiment_summary.csv')\n",
    "\n",
    "consolidate_results(results_dir, summary_path)"
   ]
  }
 ],
 "metadata": {
  "kernelspec": {
   "display_name": "neat-python-examples",
   "language": "python",
   "name": "python3"
  },
  "language_info": {
   "codemirror_mode": {
    "name": "ipython",
    "version": 3
   },
   "file_extension": ".py",
   "mimetype": "text/x-python",
   "name": "python",
   "nbconvert_exporter": "python",
   "pygments_lexer": "ipython3",
   "version": "3.9.21"
  }
 },
 "nbformat": 4,
 "nbformat_minor": 5
}
